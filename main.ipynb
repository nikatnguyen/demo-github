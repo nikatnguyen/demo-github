{
 "cells": [
  {
   "cell_type": "code",
   "execution_count": 7,
   "metadata": {},
   "outputs": [
    {
     "name": "stdout",
     "output_type": "stream",
     "text": [
      "Requirement already satisfied: openpyxl in c:\\users\\gurja\\anaconda3\\lib\\site-packages (3.0.10)\n",
      "Requirement already satisfied: et_xmlfile in c:\\users\\gurja\\anaconda3\\lib\\site-packages (from openpyxl) (1.1.0)\n",
      "Requirement already satisfied: openpyxl in c:\\users\\gurja\\anaconda3\\lib\\site-packages (3.0.10)\n",
      "Requirement already satisfied: et_xmlfile in c:\\users\\gurja\\anaconda3\\lib\\site-packages (from openpyxl) (1.1.0)\n"
     ]
    }
   ],
   "source": [
    "import pandas as pd\n",
    "from pathlib import Path\n",
    "!pip install openpyxl\n",
    "import matplotlib.pyplot as plt\n",
    "import numpy as np"
   ]
  },
  {
   "cell_type": "code",
   "execution_count": 8,
   "metadata": {},
   "outputs": [],
   "source": [
    "#path to the excel file that we will use\n",
    "unemployment_data_to_load = Path(\"demo-github/BLS Monthly Unemployment Rate.xlsx\")"
   ]
  },
  {
   "cell_type": "code",
   "execution_count": 9,
   "metadata": {},
   "outputs": [],
   "source": [
    "#reading our excel file into pandas\n",
    "unemployment_data_raw = pd.read_excel(unemployment_data_to_load, engine='openpyxl')"
   ]
  },
  {
   "cell_type": "code",
   "execution_count": 10,
   "metadata": {},
   "outputs": [
    {
     "data": {
      "text/html": [
       "<div>\n",
       "<style scoped>\n",
       "    .dataframe tbody tr th:only-of-type {\n",
       "        vertical-align: middle;\n",
       "    }\n",
       "\n",
       "    .dataframe tbody tr th {\n",
       "        vertical-align: top;\n",
       "    }\n",
       "\n",
       "    .dataframe thead th {\n",
       "        text-align: right;\n",
       "    }\n",
       "</style>\n",
       "<table border=\"1\" class=\"dataframe\">\n",
       "  <thead>\n",
       "    <tr style=\"text-align: right;\">\n",
       "      <th></th>\n",
       "      <th>FIPS</th>\n",
       "      <th>State</th>\n",
       "      <th>Year</th>\n",
       "      <th>Month</th>\n",
       "      <th>Employable Population</th>\n",
       "      <th>Employed</th>\n",
       "      <th>Unemployed</th>\n",
       "    </tr>\n",
       "  </thead>\n",
       "  <tbody>\n",
       "    <tr>\n",
       "      <th>0</th>\n",
       "      <td>1</td>\n",
       "      <td>Alabama</td>\n",
       "      <td>1976</td>\n",
       "      <td>1</td>\n",
       "      <td>1492409</td>\n",
       "      <td>1392154</td>\n",
       "      <td>100255</td>\n",
       "    </tr>\n",
       "    <tr>\n",
       "      <th>1</th>\n",
       "      <td>2</td>\n",
       "      <td>Alaska</td>\n",
       "      <td>1976</td>\n",
       "      <td>1</td>\n",
       "      <td>159154</td>\n",
       "      <td>147809</td>\n",
       "      <td>11345</td>\n",
       "    </tr>\n",
       "    <tr>\n",
       "      <th>2</th>\n",
       "      <td>4</td>\n",
       "      <td>Arizona</td>\n",
       "      <td>1976</td>\n",
       "      <td>1</td>\n",
       "      <td>972413</td>\n",
       "      <td>872738</td>\n",
       "      <td>99675</td>\n",
       "    </tr>\n",
       "    <tr>\n",
       "      <th>3</th>\n",
       "      <td>5</td>\n",
       "      <td>Arkansas</td>\n",
       "      <td>1976</td>\n",
       "      <td>1</td>\n",
       "      <td>882835</td>\n",
       "      <td>817756</td>\n",
       "      <td>65079</td>\n",
       "    </tr>\n",
       "    <tr>\n",
       "      <th>4</th>\n",
       "      <td>6</td>\n",
       "      <td>California</td>\n",
       "      <td>1976</td>\n",
       "      <td>1</td>\n",
       "      <td>9781720</td>\n",
       "      <td>8892663</td>\n",
       "      <td>889057</td>\n",
       "    </tr>\n",
       "  </tbody>\n",
       "</table>\n",
       "</div>"
      ],
      "text/plain": [
       "   FIPS       State  Year  Month  Employable Population  Employed  Unemployed\n",
       "0     1     Alabama  1976      1                1492409   1392154      100255\n",
       "1     2      Alaska  1976      1                 159154    147809       11345\n",
       "2     4     Arizona  1976      1                 972413    872738       99675\n",
       "3     5    Arkansas  1976      1                 882835    817756       65079\n",
       "4     6  California  1976      1                9781720   8892663      889057"
      ]
     },
     "execution_count": 10,
     "metadata": {},
     "output_type": "execute_result"
    }
   ],
   "source": [
    "#Run to see if we have access to our data\n",
    "unemployment_data_raw.head()"
   ]
  },
  {
   "cell_type": "code",
   "execution_count": 11,
   "metadata": {},
   "outputs": [],
   "source": [
    "#calculation for unemployment rate based on the unemployed and employable population\n",
    "unemployment_data_raw['Unemployment Rate'] = (unemployment_data_raw['Unemployed'] / unemployment_data_raw['Employable Population']) * 100"
   ]
  },
  {
   "cell_type": "code",
   "execution_count": 12,
   "metadata": {},
   "outputs": [
    {
     "data": {
      "text/html": [
       "<div>\n",
       "<style scoped>\n",
       "    .dataframe tbody tr th:only-of-type {\n",
       "        vertical-align: middle;\n",
       "    }\n",
       "\n",
       "    .dataframe tbody tr th {\n",
       "        vertical-align: top;\n",
       "    }\n",
       "\n",
       "    .dataframe thead th {\n",
       "        text-align: right;\n",
       "    }\n",
       "</style>\n",
       "<table border=\"1\" class=\"dataframe\">\n",
       "  <thead>\n",
       "    <tr style=\"text-align: right;\">\n",
       "      <th></th>\n",
       "      <th>FIPS</th>\n",
       "      <th>State</th>\n",
       "      <th>Year</th>\n",
       "      <th>Month</th>\n",
       "      <th>Employable Population</th>\n",
       "      <th>Employed</th>\n",
       "      <th>Unemployed</th>\n",
       "      <th>Unemployment Rate</th>\n",
       "    </tr>\n",
       "  </thead>\n",
       "  <tbody>\n",
       "    <tr>\n",
       "      <th>0</th>\n",
       "      <td>1</td>\n",
       "      <td>Alabama</td>\n",
       "      <td>1976</td>\n",
       "      <td>1</td>\n",
       "      <td>1492409</td>\n",
       "      <td>1392154</td>\n",
       "      <td>100255</td>\n",
       "      <td>6.717663</td>\n",
       "    </tr>\n",
       "    <tr>\n",
       "      <th>1</th>\n",
       "      <td>2</td>\n",
       "      <td>Alaska</td>\n",
       "      <td>1976</td>\n",
       "      <td>1</td>\n",
       "      <td>159154</td>\n",
       "      <td>147809</td>\n",
       "      <td>11345</td>\n",
       "      <td>7.128316</td>\n",
       "    </tr>\n",
       "    <tr>\n",
       "      <th>2</th>\n",
       "      <td>4</td>\n",
       "      <td>Arizona</td>\n",
       "      <td>1976</td>\n",
       "      <td>1</td>\n",
       "      <td>972413</td>\n",
       "      <td>872738</td>\n",
       "      <td>99675</td>\n",
       "      <td>10.250274</td>\n",
       "    </tr>\n",
       "    <tr>\n",
       "      <th>3</th>\n",
       "      <td>5</td>\n",
       "      <td>Arkansas</td>\n",
       "      <td>1976</td>\n",
       "      <td>1</td>\n",
       "      <td>882835</td>\n",
       "      <td>817756</td>\n",
       "      <td>65079</td>\n",
       "      <td>7.371593</td>\n",
       "    </tr>\n",
       "    <tr>\n",
       "      <th>4</th>\n",
       "      <td>6</td>\n",
       "      <td>California</td>\n",
       "      <td>1976</td>\n",
       "      <td>1</td>\n",
       "      <td>9781720</td>\n",
       "      <td>8892663</td>\n",
       "      <td>889057</td>\n",
       "      <td>9.088964</td>\n",
       "    </tr>\n",
       "  </tbody>\n",
       "</table>\n",
       "</div>"
      ],
      "text/plain": [
       "   FIPS       State  Year  Month  Employable Population  Employed  Unemployed  \\\n",
       "0     1     Alabama  1976      1                1492409   1392154      100255   \n",
       "1     2      Alaska  1976      1                 159154    147809       11345   \n",
       "2     4     Arizona  1976      1                 972413    872738       99675   \n",
       "3     5    Arkansas  1976      1                 882835    817756       65079   \n",
       "4     6  California  1976      1                9781720   8892663      889057   \n",
       "\n",
       "   Unemployment Rate  \n",
       "0           6.717663  \n",
       "1           7.128316  \n",
       "2          10.250274  \n",
       "3           7.371593  \n",
       "4           9.088964  "
      ]
     },
     "execution_count": 12,
     "metadata": {},
     "output_type": "execute_result"
    }
   ],
   "source": [
    "#confirming unemployment rate is in the dataframe\n",
    "unemployment_data_raw.head()"
   ]
  },
  {
   "cell_type": "code",
   "execution_count": 13,
   "metadata": {},
   "outputs": [
    {
     "data": {
      "text/plain": [
       "Year\n",
       "1976    88314307\n",
       "1977    83221063\n",
       "1978    73859367\n",
       "1979    73105365\n",
       "1980    91708995\n",
       "Name: Unemployed, dtype: int64"
      ]
     },
     "execution_count": 13,
     "metadata": {},
     "output_type": "execute_result"
    }
   ],
   "source": [
    "# extract total unemployed for the year\n",
    "yearly_total_unemployed = unemployment_data_raw.groupby('Year')['Unemployed'].sum()\n",
    "\n",
    "yearly_total_unemployed.head()"
   ]
  },
  {
   "cell_type": "code",
   "execution_count": 14,
   "metadata": {},
   "outputs": [
    {
     "data": {
      "text/plain": [
       "Year\n",
       "1976    1153808800\n",
       "1977    1188472224\n",
       "1978    1227297561\n",
       "1979    1260036193\n",
       "1980    1283401445\n",
       "Name: Employable Population, dtype: int64"
      ]
     },
     "execution_count": 14,
     "metadata": {},
     "output_type": "execute_result"
    }
   ],
   "source": [
    "#extract yearly employable population\n",
    "yearly_total_employable = unemployment_data_raw.groupby('Year')['Employable Population'].sum()\n",
    "yearly_total_employable.head()"
   ]
  },
  {
   "cell_type": "code",
   "execution_count": 15,
   "metadata": {},
   "outputs": [
    {
     "data": {
      "text/plain": [
       "Year\n",
       "1976    7.654154\n",
       "1977    7.002357\n",
       "1978    6.018049\n",
       "1979    5.801846\n",
       "1980    7.145776\n",
       "dtype: float64"
      ]
     },
     "execution_count": 15,
     "metadata": {},
     "output_type": "execute_result"
    }
   ],
   "source": [
    "#Calculation for yearly unemployment rate using total employable and unemployable population \n",
    "yearly_unemployment_rate = (yearly_total_unemployed / yearly_total_employable) * 100\n",
    "yearly_unemployment_rate.head()"
   ]
  },
  {
   "cell_type": "code",
   "execution_count": 16,
   "metadata": {},
   "outputs": [
    {
     "data": {
      "text/html": [
       "<div>\n",
       "<style scoped>\n",
       "    .dataframe tbody tr th:only-of-type {\n",
       "        vertical-align: middle;\n",
       "    }\n",
       "\n",
       "    .dataframe tbody tr th {\n",
       "        vertical-align: top;\n",
       "    }\n",
       "\n",
       "    .dataframe thead th {\n",
       "        text-align: right;\n",
       "    }\n",
       "</style>\n",
       "<table border=\"1\" class=\"dataframe\">\n",
       "  <thead>\n",
       "    <tr style=\"text-align: right;\">\n",
       "      <th></th>\n",
       "      <th>Year</th>\n",
       "      <th>Yearly Unemployment Rate</th>\n",
       "    </tr>\n",
       "    <tr>\n",
       "      <th>Year</th>\n",
       "      <th></th>\n",
       "      <th></th>\n",
       "    </tr>\n",
       "  </thead>\n",
       "  <tbody>\n",
       "    <tr>\n",
       "      <th>1976</th>\n",
       "      <td>1976</td>\n",
       "      <td>7.654154</td>\n",
       "    </tr>\n",
       "    <tr>\n",
       "      <th>1977</th>\n",
       "      <td>1977</td>\n",
       "      <td>7.002357</td>\n",
       "    </tr>\n",
       "    <tr>\n",
       "      <th>1978</th>\n",
       "      <td>1978</td>\n",
       "      <td>6.018049</td>\n",
       "    </tr>\n",
       "    <tr>\n",
       "      <th>1979</th>\n",
       "      <td>1979</td>\n",
       "      <td>5.801846</td>\n",
       "    </tr>\n",
       "    <tr>\n",
       "      <th>1980</th>\n",
       "      <td>1980</td>\n",
       "      <td>7.145776</td>\n",
       "    </tr>\n",
       "  </tbody>\n",
       "</table>\n",
       "</div>"
      ],
      "text/plain": [
       "      Year  Yearly Unemployment Rate\n",
       "Year                                \n",
       "1976  1976                  7.654154\n",
       "1977  1977                  7.002357\n",
       "1978  1978                  6.018049\n",
       "1979  1979                  5.801846\n",
       "1980  1980                  7.145776"
      ]
     },
     "execution_count": 16,
     "metadata": {},
     "output_type": "execute_result"
    }
   ],
   "source": [
    "yearly_unemployment_df = pd.DataFrame({'Year': yearly_total_unemployed.index, 'Yearly Unemployment Rate': yearly_unemployment_rate})\n",
    "yearly_unemployment_df.head()"
   ]
  },
  {
   "cell_type": "code",
   "execution_count": 17,
   "metadata": {},
   "outputs": [],
   "source": [
    "#Save unemployment dataframe to csv for analysis\n",
    "yearly_unemployment_df.to_csv('unemployment_by_year.csv')"
   ]
  },
  {
   "cell_type": "code",
   "execution_count": 18,
   "metadata": {},
   "outputs": [
    {
     "data": {
      "text/plain": [
       "count    45.000000\n",
       "mean      6.289151\n",
       "std       1.629378\n",
       "min       3.670575\n",
       "25%       5.103873\n",
       "50%       5.988235\n",
       "75%       7.364066\n",
       "max       9.685206\n",
       "Name: Yearly Unemployment Rate, dtype: float64"
      ]
     },
     "execution_count": 18,
     "metadata": {},
     "output_type": "execute_result"
    }
   ],
   "source": [
    "#Info on unemployment rate from 1976 to 2020 by year\n",
    "yearly_unemployment_df[\"Yearly Unemployment Rate\"].describe()"
   ]
  },
  {
   "cell_type": "code",
   "execution_count": 19,
   "metadata": {},
   "outputs": [
    {
     "data": {
      "text/plain": [
       "Month\n",
       "1    372414137\n",
       "2    372301056\n",
       "3    373606152\n",
       "4    389186712\n",
       "5    387032615\n",
       "Name: Unemployed, dtype: int64"
      ]
     },
     "execution_count": 19,
     "metadata": {},
     "output_type": "execute_result"
    }
   ],
   "source": [
    "#extracting total unemployed population by month\n",
    "monthly_total_unemployed = unemployment_data_raw.groupby('Month')['Unemployed'].sum()\n",
    "monthly_total_unemployed.head()"
   ]
  },
  {
   "cell_type": "code",
   "execution_count": 20,
   "metadata": {},
   "outputs": [
    {
     "data": {
      "text/plain": [
       "Month\n",
       "1    6074346605\n",
       "2    6079868511\n",
       "3    6083758132\n",
       "4    6083098640\n",
       "5    6090831214\n",
       "Name: Employable Population, dtype: int64"
      ]
     },
     "execution_count": 20,
     "metadata": {},
     "output_type": "execute_result"
    }
   ],
   "source": [
    "#extracting total employable population by month\n",
    "monthly_total_employable = unemployment_data_raw.groupby('Month')['Employable Population'].sum()\n",
    "monthly_total_employable.head()"
   ]
  },
  {
   "cell_type": "code",
   "execution_count": 21,
   "metadata": {},
   "outputs": [
    {
     "data": {
      "text/plain": [
       "Month\n",
       "1     6.130933\n",
       "2     6.123505\n",
       "3     6.141042\n",
       "4     6.397837\n",
       "5     6.354348\n",
       "6     6.290210\n",
       "7     6.258908\n",
       "8     6.202657\n",
       "9     6.183069\n",
       "10    6.129201\n",
       "11    6.122467\n",
       "12    6.113306\n",
       "dtype: float64"
      ]
     },
     "execution_count": 21,
     "metadata": {},
     "output_type": "execute_result"
    }
   ],
   "source": [
    "#Calculation for average monthly unemployment rate using total employable and total unemployable population \n",
    "monthly_unemployment_rate = (monthly_total_unemployed / monthly_total_employable) * 100\n",
    "monthly_unemployment_rate"
   ]
  },
  {
   "cell_type": "code",
   "execution_count": 23,
   "metadata": {},
   "outputs": [
    {
     "data": {
      "image/png": "[encoded data removed]",
      "text/plain": [
       "<Figure size 640x480 with 1 Axes>"
      ]
     },
     "metadata": {},
     "output_type": "display_data"
    }
   ],
   "source": [
    "x_axis = [\"January\", \"February\", \"March\", \"April\", \"May\", \"June\", \"July\", \"August\", \"September\", \"October\", \"November\", \"December\"]\n",
    "\n",
    "plt.plot(x_axis, monthly_unemployment_rate, marker = \"o\")\n",
    "\n",
    "plt.xticks(x_axis, rotation=45)\n",
    "#labels and title\n",
    "plt.xlabel('Month')\n",
    "plt.ylabel('Unemployment Rate')\n",
    "plt.title('Monthly Average Unemployment Rate 1976-2020')\n",
    "plt.grid(True)\n",
    "plt.show()"
   ]
  },
  {
   "cell_type": "code",
   "execution_count": null,
   "metadata": {},
   "outputs": [],
   "source": []
  }
 ],
 "metadata": {
  "kernelspec": {
   "display_name": "Python 3 (ipykernel)",
   "language": "python",
   "name": "python3"
  },
  "language_info": {
   "codemirror_mode": {
    "name": "ipython",
    "version": 3
   },
   "file_extension": ".py",
   "mimetype": "text/x-python",
   "name": "python",
   "nbconvert_exporter": "python",
   "pygments_lexer": "ipython3",
   "version": "3.11.4"
  }
 },
 "nbformat": 4,
 "nbformat_minor": 2
}
