{
 "cells": [
  {
   "cell_type": "code",
   "execution_count": 2,
   "id": "629aa861",
   "metadata": {},
   "outputs": [],
   "source": [
    "#Dependencies\n",
    "import pandas as pd\n",
    "import matplotlib.pyplot as plt\n",
    "import numpy as np\n",
    "from pathlib import Path"
   ]
  },
  {
   "cell_type": "code",
   "execution_count": 4,
   "id": "5a1ce45a",
   "metadata": {},
   "outputs": [
    {
     "data": {
      "text/html": [
       "<div>\n",
       "<style scoped>\n",
       "    .dataframe tbody tr th:only-of-type {\n",
       "        vertical-align: middle;\n",
       "    }\n",
       "\n",
       "    .dataframe tbody tr th {\n",
       "        vertical-align: top;\n",
       "    }\n",
       "\n",
       "    .dataframe thead th {\n",
       "        text-align: right;\n",
       "    }\n",
       "</style>\n",
       "<table border=\"1\" class=\"dataframe\">\n",
       "  <thead>\n",
       "    <tr style=\"text-align: right;\">\n",
       "      <th></th>\n",
       "      <th>Unnamed: 0</th>\n",
       "      <th>Year</th>\n",
       "      <th>Total Restaurant Sales (in millions)</th>\n",
       "      <th>Total Vehicle Sales (in millions)</th>\n",
       "    </tr>\n",
       "  </thead>\n",
       "  <tbody>\n",
       "    <tr>\n",
       "      <th>0</th>\n",
       "      <td>0</td>\n",
       "      <td>1992</td>\n",
       "      <td>173468.0</td>\n",
       "      <td>157.294</td>\n",
       "    </tr>\n",
       "    <tr>\n",
       "      <th>1</th>\n",
       "      <td>1</td>\n",
       "      <td>1993</td>\n",
       "      <td>185719.0</td>\n",
       "      <td>170.110</td>\n",
       "    </tr>\n",
       "    <tr>\n",
       "      <th>2</th>\n",
       "      <td>2</td>\n",
       "      <td>1994</td>\n",
       "      <td>195025.0</td>\n",
       "      <td>184.775</td>\n",
       "    </tr>\n",
       "    <tr>\n",
       "      <th>3</th>\n",
       "      <td>3</td>\n",
       "      <td>1995</td>\n",
       "      <td>202050.0</td>\n",
       "      <td>181.418</td>\n",
       "    </tr>\n",
       "    <tr>\n",
       "      <th>4</th>\n",
       "      <td>4</td>\n",
       "      <td>1996</td>\n",
       "      <td>210149.0</td>\n",
       "      <td>185.455</td>\n",
       "    </tr>\n",
       "  </tbody>\n",
       "</table>\n",
       "</div>"
      ],
      "text/plain": [
       "   Unnamed: 0  Year  Total Restaurant Sales (in millions)  \\\n",
       "0           0  1992                              173468.0   \n",
       "1           1  1993                              185719.0   \n",
       "2           2  1994                              195025.0   \n",
       "3           3  1995                              202050.0   \n",
       "4           4  1996                              210149.0   \n",
       "\n",
       "   Total Vehicle Sales (in millions)  \n",
       "0                            157.294  \n",
       "1                            170.110  \n",
       "2                            184.775  \n",
       "3                            181.418  \n",
       "4                            185.455  "
      ]
     },
     "execution_count": 4,
     "metadata": {},
     "output_type": "execute_result"
    }
   ],
   "source": [
    "#Create paths to dataset\n",
    "sales_path = Path(\"sales_by_year.csv\")\n",
    "\n",
    "#Read csv\n",
    "sales_df = pd.read_csv(sales_path)\n",
    "\n",
    "sales_df.head()"
   ]
  },
  {
   "cell_type": "markdown",
   "id": "779b96cc",
   "metadata": {},
   "source": [
    "# Restaurant Sales"
   ]
  },
  {
   "cell_type": "code",
   "execution_count": 12,
   "id": "d5f631e1",
   "metadata": {},
   "outputs": [
    {
     "ename": "TypeError",
     "evalue": "'DataFrame' object is not callable",
     "output_type": "error",
     "traceback": [
      "\u001b[0;31m---------------------------------------------------------------------------\u001b[0m",
      "\u001b[0;31mTypeError\u001b[0m                                 Traceback (most recent call last)",
      "Cell \u001b[0;32mIn[12], line 10\u001b[0m\n\u001b[1;32m      7\u001b[0m plt\u001b[38;5;241m.\u001b[39mylabel(\u001b[38;5;124m\"\u001b[39m\u001b[38;5;124mTotal Sales (in millions)\u001b[39m\u001b[38;5;124m\"\u001b[39m)\n\u001b[1;32m      9\u001b[0m plt\u001b[38;5;241m.\u001b[39mbar(restaurant_x, restaurant_y, facecolor\u001b[38;5;241m=\u001b[39m\u001b[38;5;124m\"\u001b[39m\u001b[38;5;124mblue\u001b[39m\u001b[38;5;124m\"\u001b[39m, alpha\u001b[38;5;241m=\u001b[39m\u001b[38;5;241m0.75\u001b[39m, align\u001b[38;5;241m=\u001b[39m\u001b[38;5;124m\"\u001b[39m\u001b[38;5;124mcenter\u001b[39m\u001b[38;5;124m\"\u001b[39m)\n\u001b[0;32m---> 10\u001b[0m plt\u001b[38;5;241m.\u001b[39mxticks(sales_df(sales_df[\u001b[38;5;124m\"\u001b[39m\u001b[38;5;124mYear\u001b[39m\u001b[38;5;124m\"\u001b[39m]))\n\u001b[1;32m     11\u001b[0m plt\u001b[38;5;241m.\u001b[39mshow()\n",
      "\u001b[0;31mTypeError\u001b[0m: 'DataFrame' object is not callable"
     ]
    },
    {
     "data": {
      "image/png": "[encoded data removed]",
      "text/plain": [
       "<Figure size 640x480 with 1 Axes>"
      ]
     },
     "metadata": {},
     "output_type": "display_data"
    }
   ],
   "source": [
    "#Bar graph\n",
    "restaurant_x = sales_df[\"Year\"]\n",
    "restaurant_y = sales_df[\"Total Restaurant Sales (in millions)\"]\n",
    "\n",
    "plt.title(\"Restaurant Sales by Year\")\n",
    "plt.xlabel(\"Year\")\n",
    "plt.ylabel(\"Total Sales (in millions)\")\n",
    "\n",
    "plt.bar(restaurant_x, restaurant_y, facecolor=\"blue\", alpha=0.75, align=\"center\")\n",
    "plt.xticks(sales_df(sales_df[\"Year\"]))\n",
    "plt.show()"
   ]
  },
  {
   "cell_type": "code",
   "execution_count": 13,
   "id": "ed3f2c20",
   "metadata": {},
   "outputs": [
    {
     "data": {
      "text/plain": [
       "<Figure size 640x480 with 0 Axes>"
      ]
     },
     "metadata": {},
     "output_type": "display_data"
    }
   ],
   "source": [
    "#Save bar graph\n",
    "plt.savefig('restaurant_sales_year.png')"
   ]
  },
  {
   "cell_type": "markdown",
   "id": "391206bd",
   "metadata": {},
   "source": [
    "# Vehicle Sales"
   ]
  },
  {
   "cell_type": "code",
   "execution_count": 14,
   "id": "fd164a06",
   "metadata": {},
   "outputs": [
    {
     "ename": "TypeError",
     "evalue": "'DataFrame' object is not callable",
     "output_type": "error",
     "traceback": [
      "\u001b[0;31m---------------------------------------------------------------------------\u001b[0m",
      "\u001b[0;31mTypeError\u001b[0m                                 Traceback (most recent call last)",
      "Cell \u001b[0;32mIn[14], line 10\u001b[0m\n\u001b[1;32m      7\u001b[0m plt\u001b[38;5;241m.\u001b[39mylabel(\u001b[38;5;124m\"\u001b[39m\u001b[38;5;124mTotal Sales (in millions)\u001b[39m\u001b[38;5;124m\"\u001b[39m)\n\u001b[1;32m      9\u001b[0m plt\u001b[38;5;241m.\u001b[39mbar(vehicles_x, vehicles_y, facecolor\u001b[38;5;241m=\u001b[39m\u001b[38;5;124m\"\u001b[39m\u001b[38;5;124mred\u001b[39m\u001b[38;5;124m\"\u001b[39m, alpha\u001b[38;5;241m=\u001b[39m\u001b[38;5;241m0.75\u001b[39m, align\u001b[38;5;241m=\u001b[39m\u001b[38;5;124m\"\u001b[39m\u001b[38;5;124mcenter\u001b[39m\u001b[38;5;124m\"\u001b[39m)\n\u001b[0;32m---> 10\u001b[0m plt\u001b[38;5;241m.\u001b[39mxticks(sales_df(sales_df[\u001b[38;5;124m\"\u001b[39m\u001b[38;5;124mYear\u001b[39m\u001b[38;5;124m\"\u001b[39m]))\n\u001b[1;32m     11\u001b[0m plt\u001b[38;5;241m.\u001b[39mshow()\n",
      "\u001b[0;31mTypeError\u001b[0m: 'DataFrame' object is not callable"
     ]
    },
    {
     "data": {
      "image/png": "[encoded data removed]",
      "text/plain": [
       "<Figure size 640x480 with 1 Axes>"
      ]
     },
     "metadata": {},
     "output_type": "display_data"
    }
   ],
   "source": [
    "#Bar graph\n",
    "vehicles_x = sales_df[\"Year\"]\n",
    "vehicles_y = sales_df[\"Total Vehicle Sales (in millions)\"]\n",
    "\n",
    "plt.title(\"Vehicle Sales by Year\")\n",
    "plt.xlabel(\"Year\")\n",
    "plt.ylabel(\"Total Sales (in millions)\")\n",
    "\n",
    "plt.bar(vehicles_x, vehicles_y, facecolor=\"red\", alpha=0.75, align=\"center\")\n",
    "plt.xticks(sales_df(sales_df[\"Year\"]))\n",
    "plt.show()"
   ]
  },
  {
   "cell_type": "code",
   "execution_count": 15,
   "id": "11922d6b",
   "metadata": {},
   "outputs": [
    {
     "data": {
      "text/plain": [
       "<Figure size 640x480 with 0 Axes>"
      ]
     },
     "metadata": {},
     "output_type": "display_data"
    }
   ],
   "source": [
    "#Save fig\n",
    "plt.savefig('vehicle_sales_year.png')"
   ]
  },
  {
   "cell_type": "markdown",
   "id": "a2b70b8e",
   "metadata": {},
   "source": [
    "# Comparing Vehicle Sales vs Restaurant Sales"
   ]
  },
  {
   "cell_type": "code",
   "execution_count": null,
   "id": "308508da",
   "metadata": {},
   "outputs": [],
   "source": [
    "#Box plot to compare outliers"
   ]
  },
  {
   "cell_type": "code",
   "execution_count": 25,
   "id": "53be8621",
   "metadata": {},
   "outputs": [
    {
     "data": {
      "image/png": "[encoded data removed]",
      "text/plain": [
       "<Figure size 640x480 with 1 Axes>"
      ]
     },
     "metadata": {},
     "output_type": "display_data"
    }
   ],
   "source": [
    "restaurant = sales_df[\"Total Restaurant Sales (in millions)\"]\n",
    "\n",
    "fig1, ax1 = plt.subplots()\n",
    "ax1.set_title('Restaurant Sales')\n",
    "ax1.set_ylabel('Total Sales (in millions)')\n",
    "ax1.boxplot(restaurant)\n",
    "plt.show()"
   ]
  },
  {
   "cell_type": "code",
   "execution_count": 28,
   "id": "fdde2dfa",
   "metadata": {},
   "outputs": [
    {
     "data": {
      "text/plain": [
       "<Figure size 640x480 with 0 Axes>"
      ]
     },
     "metadata": {},
     "output_type": "display_data"
    }
   ],
   "source": [
    "plt.savefig(\"restaurant_box.png\")"
   ]
  },
  {
   "cell_type": "code",
   "execution_count": 32,
   "id": "196d25f6",
   "metadata": {},
   "outputs": [
    {
     "name": "stdout",
     "output_type": "stream",
     "text": [
      "The lower quartile of restaurant sales is: 257013.75\n",
      "The upper quartile of restaurant sales is: 552936.25\n",
      "The interquartile range of restaurant sales is: 295922.5\n",
      "The the median of restaurant sales is: 385116.0 \n"
     ]
    }
   ],
   "source": [
    "# Determine if there are any potential outliers in the restaurant sales using quartiles\n",
    "quartiles = sales_df['Total Restaurant Sales (in millions)'].quantile([.25,.5,.75])\n",
    "lowerq = quartiles[0.25]\n",
    "upperq = quartiles[0.75]\n",
    "iqr = upperq-lowerq\n",
    "\n",
    "print(f\"The lower quartile of restaurant sales is: {lowerq}\")\n",
    "print(f\"The upper quartile of restaurant sales is: {upperq}\")\n",
    "print(f\"The interquartile range of restaurant sales is: {iqr}\")\n",
    "print(f\"The the median of restaurant sales is: {quartiles[0.5]} \")\n"
   ]
  },
  {
   "cell_type": "code",
   "execution_count": null,
   "id": "9b6c7e95",
   "metadata": {},
   "outputs": [],
   "source": []
  },
  {
   "cell_type": "code",
   "execution_count": null,
   "id": "dd18c1a7",
   "metadata": {},
   "outputs": [],
   "source": []
  },
  {
   "cell_type": "code",
   "execution_count": null,
   "id": "76e8fba9",
   "metadata": {},
   "outputs": [],
   "source": []
  },
  {
   "cell_type": "code",
   "execution_count": null,
   "id": "cbae7af7",
   "metadata": {},
   "outputs": [],
   "source": []
  },
  {
   "cell_type": "code",
   "execution_count": 24,
   "id": "61806f9f",
   "metadata": {},
   "outputs": [
    {
     "data": {
      "image/png": "[encoded data removed]",
      "text/plain": [
       "<Figure size 640x480 with 1 Axes>"
      ]
     },
     "metadata": {},
     "output_type": "display_data"
    },
    {
     "data": {
      "text/plain": [
       "{'whiskers': [<matplotlib.lines.Line2D at 0x135334190>,\n",
       "  <matplotlib.lines.Line2D at 0x1352a3810>],\n",
       " 'caps': [<matplotlib.lines.Line2D at 0x13525a0d0>,\n",
       "  <matplotlib.lines.Line2D at 0x1352598d0>],\n",
       " 'boxes': [<matplotlib.lines.Line2D at 0x135278a90>],\n",
       " 'medians': [<matplotlib.lines.Line2D at 0x1321cd250>],\n",
       " 'fliers': [<matplotlib.lines.Line2D at 0x1352ae710>],\n",
       " 'means': []}"
      ]
     },
     "execution_count": 24,
     "metadata": {},
     "output_type": "execute_result"
    }
   ],
   "source": [
    "vehicles = sales_df[\"Total Vehicle Sales (in millions)\"]\n",
    "\n",
    "\n",
    "fig1, ax1 = plt.subplots()\n",
    "ax1.set_title('Vehicle Sales')\n",
    "ax1.set_ylabel('Total Sales (in millions)')\n",
    "ax1.boxplot(vehicles)\n",
    "plt.show()\n",
    "ax1.boxplot(vehicles)"
   ]
  },
  {
   "cell_type": "code",
   "execution_count": 29,
   "id": "98d7fc49",
   "metadata": {},
   "outputs": [
    {
     "data": {
      "text/plain": [
       "<Figure size 640x480 with 0 Axes>"
      ]
     },
     "metadata": {},
     "output_type": "display_data"
    }
   ],
   "source": [
    "plt.savefig(\"vehicle_box.png\")"
   ]
  },
  {
   "cell_type": "code",
   "execution_count": 33,
   "id": "a98c9700",
   "metadata": {},
   "outputs": [
    {
     "name": "stdout",
     "output_type": "stream",
     "text": [
      "The lower quartile of vehicle sales is: 175.71175\n",
      "The upper quartile of vehicle sales is: 209.072\n",
      "The interquartile range of vehicle sales is: 33.36025000000001\n",
      "The the median of vehicle sales is: 191.0985 \n"
     ]
    }
   ],
   "source": [
    "# Determine if there are any potential outliers in the restaurant sales using quartiles\n",
    "quartiles = sales_df['Total Vehicle Sales (in millions)'].quantile([.25,.5,.75])\n",
    "lowerq = quartiles[0.25]\n",
    "upperq = quartiles[0.75]\n",
    "iqr = upperq-lowerq\n",
    "\n",
    "print(f\"The lower quartile of vehicle sales is: {lowerq}\")\n",
    "print(f\"The upper quartile of vehicle sales is: {upperq}\")\n",
    "print(f\"The interquartile range of vehicle sales is: {iqr}\")\n",
    "print(f\"The the median of vehicle sales is: {quartiles[0.5]} \")"
   ]
  },
  {
   "cell_type": "code",
   "execution_count": null,
   "id": "6ee7287a",
   "metadata": {},
   "outputs": [],
   "source": []
  },
  {
   "cell_type": "code",
   "execution_count": null,
   "id": "4197c1d1",
   "metadata": {},
   "outputs": [],
   "source": []
  }
 ],
 "metadata": {
  "kernelspec": {
   "display_name": "Python 3 (ipykernel)",
   "language": "python",
   "name": "python3"
  },
  "language_info": {
   "codemirror_mode": {
    "name": "ipython",
    "version": 3
   },
   "file_extension": ".py",
   "mimetype": "text/x-python",
   "name": "python",
   "nbconvert_exporter": "python",
   "pygments_lexer": "ipython3",
   "version": "3.11.4"
  }
 },
 "nbformat": 4,
 "nbformat_minor": 5
}
