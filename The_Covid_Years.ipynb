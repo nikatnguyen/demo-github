{
 "cells": [
  {
   "cell_type": "code",
   "execution_count": 1,
   "id": "1e37d463",
   "metadata": {},
   "outputs": [
    {
     "data": {
      "text/html": [
       "<div>\n",
       "<style scoped>\n",
       "    .dataframe tbody tr th:only-of-type {\n",
       "        vertical-align: middle;\n",
       "    }\n",
       "\n",
       "    .dataframe tbody tr th {\n",
       "        vertical-align: top;\n",
       "    }\n",
       "\n",
       "    .dataframe thead th {\n",
       "        text-align: right;\n",
       "    }\n",
       "</style>\n",
       "<table border=\"1\" class=\"dataframe\">\n",
       "  <thead>\n",
       "    <tr style=\"text-align: right;\">\n",
       "      <th></th>\n",
       "      <th>DATE</th>\n",
       "      <th>MRTSSM7225USN</th>\n",
       "      <th>TOTALSA</th>\n",
       "    </tr>\n",
       "  </thead>\n",
       "  <tbody>\n",
       "    <tr>\n",
       "      <th>0</th>\n",
       "      <td>1992-01-01</td>\n",
       "      <td>13325.0</td>\n",
       "      <td>12.591</td>\n",
       "    </tr>\n",
       "    <tr>\n",
       "      <th>1</th>\n",
       "      <td>1992-02-01</td>\n",
       "      <td>13474.0</td>\n",
       "      <td>12.927</td>\n",
       "    </tr>\n",
       "    <tr>\n",
       "      <th>2</th>\n",
       "      <td>1992-03-01</td>\n",
       "      <td>14346.0</td>\n",
       "      <td>12.824</td>\n",
       "    </tr>\n",
       "    <tr>\n",
       "      <th>3</th>\n",
       "      <td>1992-04-01</td>\n",
       "      <td>14065.0</td>\n",
       "      <td>12.550</td>\n",
       "    </tr>\n",
       "    <tr>\n",
       "      <th>4</th>\n",
       "      <td>1992-05-01</td>\n",
       "      <td>15077.0</td>\n",
       "      <td>13.098</td>\n",
       "    </tr>\n",
       "    <tr>\n",
       "      <th>...</th>\n",
       "      <td>...</td>\n",
       "      <td>...</td>\n",
       "      <td>...</td>\n",
       "    </tr>\n",
       "    <tr>\n",
       "      <th>375</th>\n",
       "      <td>2023-04-01</td>\n",
       "      <td>79298.0</td>\n",
       "      <td>16.210</td>\n",
       "    </tr>\n",
       "    <tr>\n",
       "      <th>376</th>\n",
       "      <td>2023-05-01</td>\n",
       "      <td>83588.0</td>\n",
       "      <td>16.079</td>\n",
       "    </tr>\n",
       "    <tr>\n",
       "      <th>377</th>\n",
       "      <td>2023-06-01</td>\n",
       "      <td>83171.0</td>\n",
       "      <td>16.602</td>\n",
       "    </tr>\n",
       "    <tr>\n",
       "      <th>378</th>\n",
       "      <td>2023-07-01</td>\n",
       "      <td>84580.0</td>\n",
       "      <td>16.442</td>\n",
       "    </tr>\n",
       "    <tr>\n",
       "      <th>379</th>\n",
       "      <td>2023-08-01</td>\n",
       "      <td>82945.0</td>\n",
       "      <td>15.898</td>\n",
       "    </tr>\n",
       "  </tbody>\n",
       "</table>\n",
       "<p>380 rows × 3 columns</p>\n",
       "</div>"
      ],
      "text/plain": [
       "           DATE  MRTSSM7225USN  TOTALSA\n",
       "0    1992-01-01        13325.0   12.591\n",
       "1    1992-02-01        13474.0   12.927\n",
       "2    1992-03-01        14346.0   12.824\n",
       "3    1992-04-01        14065.0   12.550\n",
       "4    1992-05-01        15077.0   13.098\n",
       "..          ...            ...      ...\n",
       "375  2023-04-01        79298.0   16.210\n",
       "376  2023-05-01        83588.0   16.079\n",
       "377  2023-06-01        83171.0   16.602\n",
       "378  2023-07-01        84580.0   16.442\n",
       "379  2023-08-01        82945.0   15.898\n",
       "\n",
       "[380 rows x 3 columns]"
      ]
     },
     "execution_count": 1,
     "metadata": {},
     "output_type": "execute_result"
    }
   ],
   "source": [
    "# Import matplotlib and numpy for charting\n",
    "import pandas as pd\n",
    "from pathlib import Path\n",
    "import matplotlib.pyplot as plt\n",
    "import numpy as np\n",
    "\n",
    "# Files To Load\n",
    "restaurant_sales_to_load = Path(\"restaurant_sales.csv\")\n",
    "vehicle_sales_to_load = Path(\"vehicle_sales.csv\")\n",
    "\n",
    "#Read Restaurant and Vehicle Data Files and store into Pandas DataFrames\n",
    "restaurant_sales = pd.read_csv(restaurant_sales_to_load)\n",
    "vehicle_sales = pd.read_csv(vehicle_sales_to_load)\n",
    "\n",
    "#Combine the Data into a single dataset\n",
    "sales_data_complete = pd.merge(restaurant_sales, vehicle_sales, how=\"left\")\n",
    "sales_data_complete"
   ]
  },
  {
   "cell_type": "code",
   "execution_count": 2,
   "id": "63bd8e04",
   "metadata": {},
   "outputs": [],
   "source": [
    "# Change data to datetime\n",
    "sales_data_complete[\"DATE\"] = pd.to_datetime(sales_data_complete[\"DATE\"])\n",
    "sales_data_complete.head()\n",
    "# Change decimal place for vehicle units\n",
    "sales_data_complete.set_index(\"DATE\").tail()\n",
    "sales_data_complete[\"TOTALSA\"] = sales_data_complete[\"TOTALSA\"] * 1000\n"
   ]
  },
  {
   "cell_type": "code",
   "execution_count": 3,
   "id": "b8f3957b",
   "metadata": {},
   "outputs": [],
   "source": [
    "# Narrow data to the years COVID-19 occurred\n",
    "covid_sales_df = sales_data_complete[sales_data_complete[\"DATE\"].between('2020-01-01','2023-06-01')]"
   ]
  },
  {
   "cell_type": "code",
   "execution_count": 49,
   "id": "53b3224d",
   "metadata": {},
   "outputs": [
    {
     "data": {
      "image/png": "[encoded data removed]",
      "text/plain": [
       "<Figure size 720x360 with 1 Axes>"
      ]
     },
     "metadata": {
      "needs_background": "light"
     },
     "output_type": "display_data"
    },
    {
     "data": {
      "text/plain": [
       "<Figure size 720x576 with 0 Axes>"
      ]
     },
     "metadata": {},
     "output_type": "display_data"
    }
   ],
   "source": [
    "# Plot Graph\n",
    "fig, ax = plt.subplots (figsize=(10,5))\n",
    "width = 1.5\n",
    "\n",
    "labels = ['2020-01-01', '2020-06-01', '2021-01-01', '2021-06-01', '2022-01-01', '2022-06-01', '2023-01-01', '2023-06-01']\n",
    "ind = np.arange(covid_sales_df.shape[0]) * 4\n",
    "plt.bar(ind, covid_sales_df['MRTSSM7225USN'], alpha=.8, color=\"b\", align=\"center\", width=width)\n",
    "plt.bar(ind + width, covid_sales_df['TOTALSA'], alpha=.8, color=\"r\", align=\"center\", width=width)\n",
    "ax.set_xlabel('Years', fontsize = 15)\n",
    "plt.ylabel('Sales(in Millions)')\n",
    "ax.set_ylabel('Sales(in Millions)', fontsize = 15)\n",
    "ax.set_title('Sales Numbers During COVID-19', fontsize=20)\n",
    "plt.xticks(ind + width / 2, labels, rotation = 90)\n",
    "plt.legend([\"Restaurant Sales\", \"Vehicle Units\"], loc =\"upper left\", fontsize=14)\n",
    "plt.locator_params(axis='x', nbins=8.3)\n",
    "\n",
    "\n",
    "f = plt.figure()\n",
    "f.set_figwidth(10)\n",
    "f.set_figheight(8)\n",
    "\n",
    "\n",
    "plt.show()\n",
    "\n"
   ]
  },
  {
   "cell_type": "code",
   "execution_count": 5,
   "id": "fe81745a",
   "metadata": {},
   "outputs": [
    {
     "data": {
      "text/plain": [
       "<Figure size 432x288 with 0 Axes>"
      ]
     },
     "metadata": {},
     "output_type": "display_data"
    }
   ],
   "source": [
    "#Save Image\n",
    "plt.savefig(\"covid_box.png\")"
   ]
  },
  {
   "cell_type": "code",
   "execution_count": null,
   "id": "ddeb72e1",
   "metadata": {},
   "outputs": [],
   "source": []
  }
 ],
 "metadata": {
  "kernelspec": {
   "display_name": "PythonData",
   "language": "python",
   "name": "pythondata"
  },
  "language_info": {
   "codemirror_mode": {
    "name": "ipython",
    "version": 3
   },
   "file_extension": ".py",
   "mimetype": "text/x-python",
   "name": "python",
   "nbconvert_exporter": "python",
   "pygments_lexer": "ipython3",
   "version": "3.7.7"
  }
 },
 "nbformat": 4,
 "nbformat_minor": 5
}
